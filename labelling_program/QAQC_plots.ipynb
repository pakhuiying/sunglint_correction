{
 "cells": [
  {
   "cell_type": "code",
   "execution_count": 10,
   "metadata": {},
   "outputs": [
    {
     "name": "stderr",
     "output_type": "stream",
     "text": [
      "c:\\Users\\PAKHUIYING\\Documents\\sunglint_correction\\extract_spectral.py:220: DeprecationWarning: invalid escape sequence \\d\n",
      "  \"\"\"\n"
     ]
    }
   ],
   "source": [
    "import os, glob\n",
    "import json\n",
    "import importlib\n",
    "import radiometric_calib_utils\n",
    "import mutils\n",
    "import micasense.imageutils as imageutils\n",
    "import PIL.Image as Image\n",
    "import extract_spectral\n",
    "importlib.reload(radiometric_calib_utils)\n",
    "importlib.reload(mutils)\n",
    "importlib.reload(extract_spectral)\n",
    "import mutils\n",
    "import extract_spectral as espect\n",
    "import matplotlib.pyplot as plt\n",
    "import numpy as np\n",
    "from math import ceil"
   ]
  },
  {
   "attachments": {},
   "cell_type": "markdown",
   "metadata": {},
   "source": [
    "# QAQC of labelled images\n",
    "\n",
    "We will replot the bboxes on the images again using the info from `saved_bboxes`. The aim is to check if the drawn bboxes is drawn correctly on the images due to some bugs before the program was stable.\n",
    "\n",
    "Previous bugs:\n",
    "\n",
    "1. `saved_plots` were not saved together with `saved_bboxes` text files, which makes it hard to validate the bboxes drawn $\\rightarrow$ this has been subsequently corrected by saving both the bboxes and plots. \n",
    "\n",
    "    Consequence: Some bboxes text files do not have a corresponding saved plots\n",
    "\n",
    "2. Some bboxes from previous images were transferred over to subsequent images because the bboxes were not cleared (\"reset\") $\\rightarrow$ this has been corrected\n",
    "\n",
    "    Consequence: Some images had unwanted drawn bboxes which were wrong\n",
    "\n",
    "3. Normalisation of RGB image $\\rightarrow$ this has been subsequently corrected by providing true rgb images\n",
    "\n",
    "    Consequence: Normalisation may have exaggerated the brightness of the image, resulting in possibly mislabelling regions as glint even though sun glint was not present\n",
    "\n"
   ]
  },
  {
   "attachments": {},
   "cell_type": "markdown",
   "metadata": {},
   "source": [
    "If data was transferred from another platform, the file path of the images saved in the text file will not be consistent with the file path in your local machine. We will need to reassign a new directory to the file path in the text file:\n",
    "\n",
    "For example, your raw images was stored in the C drive, but mine is stored in the D drive, so when the program tries to search for images in my C drive, there is an error because my C drive doesn't have the raw images. This is why we need to reassign the main directory.\n",
    "\n",
    "- directory (*this is the directory that needs to be reassigned*)\n",
    "    - survey folder\n",
    "        - flight folder\n",
    "            - RawImg folder\n",
    "                - ...raw images...\n",
    "\n",
    "To reassign the images to new directory, simply specify where all the survey folders are stored in YOUR local machine e.g. `new_dir = r\"D:\\EPMC_flight\"`"
   ]
  },
  {
   "cell_type": "code",
   "execution_count": 12,
   "metadata": {},
   "outputs": [
    {
     "name": "stdout",
     "output_type": "stream",
     "text": [
      "75\n"
     ]
    },
    {
     "data": {
      "text/plain": [
       "['13thSur22Sep_F2_RawImg_IMG_0091_1',\n",
       " '13thSur22Sep_F2_RawImg_IMG_0201_1',\n",
       " '8thSur11Aug_F4_RawImg_IMG_0280_1',\n",
       " '13thSur22Sep_F2_RawImg_IMG_0236_1',\n",
       " '1stSur6Apr_F3_RawImg_IMG_0329_1',\n",
       " '12thSur13Sep_F1_RawImg_IMG_0000_1',\n",
       " '9thSur16Aug_F2_RawImg_IMG_0000_1',\n",
       " '13thSur22Sep_F2_RawImg_IMG_0145_1',\n",
       " '1stSur6Apr_F2_RawImg_IMG_0000_1',\n",
       " '8thSur11Aug_F3_RawImg_IMG_0763_1',\n",
       " '1stSur6Apr_F3_RawImg_IMG_0270_1',\n",
       " '8thSur11Aug_F2_RawImg_IMG_0062_1',\n",
       " '13thSur22Sep_F2_RawImg_IMG_0018_1',\n",
       " '8thSur11Aug_F1_RawImg_IMG_0689_1',\n",
       " '8thSur11Aug_F1_RawImg_IMG_0424_1',\n",
       " '8thSur11Aug_F4_RawImg_IMG_0441_1',\n",
       " '1stSur6Apr_F1_RawImg_IMG_0402_1',\n",
       " '10thSur24Aug_F1_RawImg_IMG_0016_1',\n",
       " '1stSur6Apr_F3_RawImg_IMG_0432_1',\n",
       " '8thSur11Aug_F4_RawImg_IMG_0162_1',\n",
       " '8thSur11Aug_F3_RawImg_IMG_0540_1',\n",
       " '8thSur11Aug_F4_RawImg_IMG_0486_1',\n",
       " '8thSur11Aug_F4_RawImg_IMG_0020_1',\n",
       " '9thSur16Aug_F1_RawImg_IMG_0000_1',\n",
       " '8thSur11Aug_F3_RawImg_IMG_0000_1',\n",
       " '1stSur6Apr_F2_RawImg_IMG_0443_1',\n",
       " '13thSur22Sep_F2_RawImg_IMG_0425_1',\n",
       " '1stSur6Apr_F3_RawImg_IMG_0269_1',\n",
       " '1stSur6Apr_F3_RawImg_IMG_0000_1',\n",
       " '1stSur6Apr_F3_RawImg_IMG_0219_1',\n",
       " '8thSur11Aug_F4_RawImg_IMG_0396_1',\n",
       " '8thSur11Aug_F1_RawImg_IMG_0411_1',\n",
       " '13thSur22Sep_F2_RawImg_IMG_0041_1',\n",
       " '13thSur22Sep_F2_RawImg_IMG_0075_1',\n",
       " '8thSur11Aug_F4_RawImg_IMG_0101_1',\n",
       " '8thSur11Aug_F1_RawImg_IMG_0690_1',\n",
       " '8thSur11Aug_F3_RawImg_IMG_0196_1',\n",
       " '1stSur6Apr_F3_RawImg_IMG_0283_1',\n",
       " '8thSur11Aug_F4_RawImg_IMG_0000_1',\n",
       " '1stSur6Apr_F3_RawImg_IMG_0307_1',\n",
       " '8thSur11Aug_F1_RawImg_IMG_0000_1',\n",
       " '13thSur22Sep_F2_RawImg_IMG_0053_1',\n",
       " '8thSur11Aug_F1_RawImg_IMG_0542_1',\n",
       " '10thSur24Aug_F1_RawImg_IMG_0006_1',\n",
       " '13thSur22Sep_F2_RawImg_IMG_0205_1',\n",
       " '8thSur11Aug_F1_RawImg_IMG_0053_1',\n",
       " '8thSur11Aug_F4_RawImg_IMG_0511_1',\n",
       " '13thSur22Sep_F2_RawImg_IMG_0316_1',\n",
       " '13thSur22Sep_F2_RawImg_IMG_0094_1',\n",
       " '9thSur16Aug_F1_RawImg_IMG_0779_1',\n",
       " '10thSur24Aug_F1_RawImg_IMG_0017_1',\n",
       " '8thSur11Aug_F2_RawImg_IMG_0000_1',\n",
       " '1stSur6Apr_F1_RawImg_IMG_0000_1',\n",
       " '9thSur16Aug_F1_RawImg_IMG_0732_1',\n",
       " '13thSur22Sep_F2_RawImg_IMG_0184_1',\n",
       " '13thSur22Sep_F2_RawImg_IMG_0144_1',\n",
       " '13thSur22Sep_F2_RawImg_IMG_0142_1',\n",
       " '10thSur24Aug_F1_RawImg_IMG_0000_1',\n",
       " '13thSur22Sep_F1_RawImg_IMG_0000_1',\n",
       " '9thSur16Aug_F1_RawImg_IMG_0023_1',\n",
       " '8thSur11Aug_F3_RawImg_IMG_0630_1',\n",
       " '1stSur6Apr_F3_RawImg_IMG_0273_1',\n",
       " '1stSur6Apr_F3_RawImg_IMG_0309_1',\n",
       " '8thSur11Aug_F1_RawImg_IMG_0111_1',\n",
       " '10thSur24Aug_F1_RawImg_IMG_0013_1',\n",
       " '13thSur22Sep_F2_RawImg_IMG_0000_1',\n",
       " '9thSur16Aug_F1_RawImg_IMG_0011_1',\n",
       " '1stSur6Apr_F3_RawImg_IMG_0385_1',\n",
       " '8thSur11Aug_F4_RawImg_IMG_0318_1',\n",
       " '1stSur6Apr_F1_RawImg_IMG_0001_1',\n",
       " '8thSur11Aug_F1_RawImg_IMG_0461_1',\n",
       " '1stSur6Apr_F3_RawImg_IMG_0328_1',\n",
       " '13thSur22Sep_F2_RawImg_IMG_0112_1',\n",
       " '10thSur24Aug_F1_RawImg_IMG_0015_1',\n",
       " '10thSur24Aug_F1_RawImg_IMG_0020_1']"
      ]
     },
     "execution_count": 12,
     "metadata": {},
     "output_type": "execute_result"
    }
   ],
   "source": [
    "# mutils.get_bboxes_complement(\"saved_bboxes_1\",r\"D:\\QAQC\\QAQC_plots\",\"saved_bboxes_1_continue\")"
   ]
  },
  {
   "attachments": {},
   "cell_type": "markdown",
   "metadata": {},
   "source": [
    "# Step 1\n",
    "\n",
    "- combine all `saved_bboxes` together"
   ]
  },
  {
   "cell_type": "code",
   "execution_count": 13,
   "metadata": {},
   "outputs": [
    {
     "name": "stderr",
     "output_type": "stream",
     "text": [
      "Flights: 100%|██████████| 13/13 [00:00<?, ?it/s]\n"
     ]
    }
   ],
   "source": [
    "new_dir = r\"D:\\EPMC_flight\"\n",
    "ES = espect.VerifyBboxes(r\"saved_bboxes_1_continue\", \n",
    "                         assign_new_dir=new_dir,split_iter=3)\n",
    "store_bboxes = ES.store_bboxes()\n",
    "if os.path.exists(list(store_bboxes)[0]):\n",
    "    ES.plot_bboxes(show_n = None,figsize=(10,20),save=True, plot_dir = r\"D:\\QAQC\")\n",
    "else:\n",
    "    print(f\"QAQC plots not saved because {list(store_bboxes)[0]} does not exist!\\nCheck if {new_dir} is the folder where survey images are stored\")"
   ]
  },
  {
   "attachments": {},
   "cell_type": "markdown",
   "metadata": {},
   "source": [
    "Else, if no reassignment is needed, just run the following:"
   ]
  },
  {
   "cell_type": "code",
   "execution_count": 60,
   "metadata": {},
   "outputs": [
    {
     "name": "stdout",
     "output_type": "stream",
     "text": [
      "(919, 1239, 3)\n",
      "(919, 1239, 3)\n"
     ]
    },
    {
     "name": "stderr",
     "output_type": "stream",
     "text": [
      "Clipping input data to the valid range for imshow with RGB data ([0..1] for floats or [0..255] for integers).\n"
     ]
    },
    {
     "name": "stdout",
     "output_type": "stream",
     "text": [
      "(919, 1239, 3)\n"
     ]
    }
   ],
   "source": [
    "ES = espect.VerifyBboxes(r\"saved_bboxes\")\n",
    "store_bboxes = ES.store_bboxes()\n",
    "if os.path.exists(list(store_bboxes)[0]):\n",
    "    ES.plot_bboxes(show_n = None,figsize=(10,20),save=True)\n",
    "else:\n",
    "    print(f\"QAQC plots not saved because {list(store_bboxes)[0]} does not exist!\")"
   ]
  },
  {
   "attachments": {},
   "cell_type": "markdown",
   "metadata": {},
   "source": [
    "# Step 2"
   ]
  },
  {
   "attachments": {},
   "cell_type": "markdown",
   "metadata": {},
   "source": [
    "Now after the code above has finished running (probably will take very long if you are going through many images), we will start with the QAQC. \n",
    "\n",
    "- Make sure that the folder *QAQC_plots* have been created.\n",
    "- Run `get_training_data.py` (it is the same GUI program that can be used for both labelling, QAQC, and for relabelling! Yay to not creating a separate GUI program!)\n",
    "- During the text prompt `Enter directory:`, enter the filepath for *QAQC_plots*\n",
    "- The program works pretty much the same as before, except for the textbox to submit the inputs. In the textbox you can enter the filename e.g. *1stSur6Apr_F1_RawImg_IMG_0005_1* to jump to whatever image you wish to.\n",
    "![QAQC](example_images/gui_qaqc.png)\n",
    "\n",
    "- if the bboxes have all been drawn correctly for the current image, click *Next* to skip the current image\n",
    "- IMPORTANT: if **at least one** of the bboxes are drawn wrongly, you will need to redraw __all__ the bboxes, the previous bboxes are there as guidance if some of the bboxes are correctly drawn (So you can draw over the previous bboxes).\n",
    "\n",
    "When you have come to the end of the images, the title of the plot will change to:\n",
    "\n",
    "\"END OF IMAGES. CONGRATULATIONS. STOP LABELLING\"\n",
    "\n",
    "![QAQC](example_images/gui_qaqc_end.png)"
   ]
  },
  {
   "cell_type": "markdown",
   "metadata": {},
   "source": []
  }
 ],
 "metadata": {
  "kernelspec": {
   "display_name": "micasense",
   "language": "python",
   "name": "python3"
  },
  "language_info": {
   "codemirror_mode": {
    "name": "ipython",
    "version": 3
   },
   "file_extension": ".py",
   "mimetype": "text/x-python",
   "name": "python",
   "nbconvert_exporter": "python",
   "pygments_lexer": "ipython3",
   "version": "3.7.12"
  },
  "orig_nbformat": 4
 },
 "nbformat": 4,
 "nbformat_minor": 2
}
