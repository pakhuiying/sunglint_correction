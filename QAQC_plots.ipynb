{
 "cells": [
  {
   "cell_type": "code",
   "execution_count": 66,
   "metadata": {},
   "outputs": [],
   "source": [
    "import os, glob\n",
    "import json\n",
    "import importlib\n",
    "import radiometric_calib_utils\n",
    "import mutils\n",
    "import PIL.Image as Image\n",
    "import extract_spectral\n",
    "importlib.reload(radiometric_calib_utils)\n",
    "importlib.reload(mutils)\n",
    "importlib.reload(extract_spectral)\n",
    "import mutils\n",
    "import extract_spectral as espect\n",
    "import matplotlib.pyplot as plt\n",
    "import numpy as np\n",
    "from math import ceil"
   ]
  },
  {
   "attachments": {},
   "cell_type": "markdown",
   "metadata": {},
   "source": [
    "# QAQC of labelled images\n",
    "\n",
    "We will replot the bboxes on the images again using the info from `saved_bboxes`. The aim is to check if the drawn bboxes is drawn correctly on the images due to some bugs before the program was stable.\n",
    "\n",
    "Previous bugs:\n",
    "\n",
    "1. `saved_plots` were not saved together with `saved_bboxes` text files, which makes it hard to validate the bboxes drawn $\\rightarrow$ this has been subsequently corrected by saving both the bboxes and plots. \n",
    "\n",
    "    Consequence: Some bboxes text files do not have a corresponding saved plots\n",
    "\n",
    "2. Some bboxes from previous images were transferred over to subsequent images because the bboxes were not cleared (\"reset\") $\\rightarrow$ this has been corrected\n",
    "\n",
    "    Consequence: Some images had unwanted drawn bboxes which were wrong\n",
    "\n",
    "3. Normalisation of RGB image $\\rightarrow$ this has been subsequently corrected by providing true rgb images\n",
    "\n",
    "    Consequence: Normalisation may have exaggerated the brightness of the image, resulting in possibly mislabelling regions as glint even though sun glint was not present\n",
    "\n"
   ]
  },
  {
   "attachments": {},
   "cell_type": "markdown",
   "metadata": {},
   "source": [
    "If data was transferred from another platform, the file path of the images saved in the text file will not be consistent with the file path in your local machine. We will need to reassign a new directory to the file path in the text file:\n",
    "\n",
    "For example, your raw images was stored in the C drive, but mine is stored in the D drive, so when the program tries to search for images in my C drive, there is an error because my C drive doesn't have the raw images. This is why we need to reassign the main directory.\n",
    "\n",
    "- directory (*this is the directory that needs to be reassigned*)\n",
    "    - survey folder\n",
    "        - flight folder\n",
    "            - RawImg folder\n",
    "                - ...raw images...\n",
    "\n",
    "To reassign the images to new directory, simply specify where all the survey folders are stored in YOUR local machine e.g. `new_dir = r\"D:\\EPMC_flight\"`"
   ]
  },
  {
   "cell_type": "code",
   "execution_count": 67,
   "metadata": {},
   "outputs": [
    {
     "name": "stderr",
     "output_type": "stream",
     "text": [
      "Flights:   0%|          | 0/2 [00:00<?, ?it/s]Clipping input data to the valid range for imshow with RGB data ([0..1] for floats or [0..255] for integers).\n",
      "Images: 100%|██████████| 1/1 [00:06<00:00,  6.24s/it]\n",
      "Flights:  50%|█████     | 1/2 [00:11<00:11, 11.06s/it]Clipping input data to the valid range for imshow with RGB data ([0..1] for floats or [0..255] for integers).\n",
      "Clipping input data to the valid range for imshow with RGB data ([0..1] for floats or [0..255] for integers).\n",
      "Images: 100%|██████████| 4/4 [00:24<00:00,  6.13s/it]\n",
      "Flights: 100%|██████████| 2/2 [00:40<00:00, 20.29s/it]\n"
     ]
    }
   ],
   "source": [
    "new_dir = r\"D:\\EPMC_flight\"\n",
    "ES = espect.VerifyBboxes(r\"saved_bboxes\", \n",
    "                         assign_new_dir=new_dir,split_iter=3)\n",
    "store_bboxes = ES.store_bboxes()\n",
    "if os.path.exists(list(store_bboxes)[0]):\n",
    "    ES.plot_bboxes(show_n = None,figsize=(10,20),save=True)\n",
    "else:\n",
    "    print(f\"QAQC plots not saved because {list(store_bboxes)[0]} does not exist!\\nCheck if {new_dir} is the folder where survey images are stored\")"
   ]
  },
  {
   "attachments": {},
   "cell_type": "markdown",
   "metadata": {},
   "source": [
    "Else, if no reassignment is needed, just run the following:"
   ]
  },
  {
   "cell_type": "code",
   "execution_count": 60,
   "metadata": {},
   "outputs": [
    {
     "name": "stdout",
     "output_type": "stream",
     "text": [
      "(919, 1239, 3)\n",
      "(919, 1239, 3)\n"
     ]
    },
    {
     "name": "stderr",
     "output_type": "stream",
     "text": [
      "Clipping input data to the valid range for imshow with RGB data ([0..1] for floats or [0..255] for integers).\n"
     ]
    },
    {
     "name": "stdout",
     "output_type": "stream",
     "text": [
      "(919, 1239, 3)\n"
     ]
    }
   ],
   "source": [
    "ES = espect.VerifyBboxes(r\"saved_bboxes\")\n",
    "store_bboxes = ES.store_bboxes()\n",
    "if os.path.exists(list(store_bboxes)[0]):\n",
    "    ES.plot_bboxes(show_n = None,figsize=(10,20),save=True)\n",
    "else:\n",
    "    print(f\"QAQC plots not saved because {list(store_bboxes)[0]} does not exist!\")"
   ]
  }
 ],
 "metadata": {
  "kernelspec": {
   "display_name": "micasense",
   "language": "python",
   "name": "python3"
  },
  "language_info": {
   "codemirror_mode": {
    "name": "ipython",
    "version": 3
   },
   "file_extension": ".py",
   "mimetype": "text/x-python",
   "name": "python",
   "nbconvert_exporter": "python",
   "pygments_lexer": "ipython3",
   "version": "3.7.12"
  },
  "orig_nbformat": 4
 },
 "nbformat": 4,
 "nbformat_minor": 2
}
