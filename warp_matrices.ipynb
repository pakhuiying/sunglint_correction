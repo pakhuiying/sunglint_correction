{
 "cells": [
  {
   "cell_type": "markdown",
   "metadata": {},
   "source": [
    "This notebook aims to create a `warp_matrices` file which is an affine transformation that can align the captures of the Dual-MX camera system. This `warp_matrices` file will be applied to all the flights\n",
    "\n",
    "1. Find a capture where there are sufficient features in the scene\n",
    "2. Make sure that the height of the capture > 35 m AGL\n",
    "\n",
    "\n",
    "For best alignment results it's good to select a capture which has features which visible in all bands.  Man-made objects such as cars, roads, and buildings tend to work very well, while captures of only repeating crop rows tend to work poorly.  Remember, once a good transformation has been found for flight, it can be generally be applied across all of the images.\n",
    "\n",
    "It's also good to use an image for alignment which is taken near the same level above ground as the rest of the flights. Above approximately 35m AGL, the alignement will be consistent. However, if images taken closer to the ground are used, such as panel images, the same alignment transformation will not work for the flight data.  "
   ]
  },
  {
   "cell_type": "code",
   "execution_count": null,
   "metadata": {},
   "outputs": [],
   "source": []
  }
 ],
 "metadata": {
  "kernelspec": {
   "display_name": "Python 3.7.12 ('micasense')",
   "language": "python",
   "name": "python3"
  },
  "language_info": {
   "name": "python",
   "version": "3.7.12"
  },
  "orig_nbformat": 4,
  "vscode": {
   "interpreter": {
    "hash": "b38d478bc61cda7411a0222c033e292f50ec6a7bb64033136e2905dd7ec29b79"
   }
  }
 },
 "nbformat": 4,
 "nbformat_minor": 2
}
